{
 "cells": [
  {
   "cell_type": "code",
   "execution_count": 1,
   "id": "09a989dc-0862-44de-8423-d5f00ba6b771",
   "metadata": {},
   "outputs": [],
   "source": [
    "# Importing necessary libraries\n",
    "import pandas as pd\n",
    "from sklearn.model_selection import train_test_split, cross_val_score\n",
    "from sklearn.linear_model import LinearRegression\n",
    "from sklearn.metrics import mean_squared_error\n",
    "import matplotlib.pyplot as plt\n",
    "\n",
    "# Load the dataset\n",
    "def load_data(file_path):\n",
    "    return pd.read_csv(\"C:\\\\Users\\\\USER\\PycharmProjects\\\\Internship_project\\\\house_data.csv\")"
   ]
  },
  {
   "cell_type": "code",
   "execution_count": 2,
   "id": "12141eba-de92-4a49-bd8a-ad511b5a0cc2",
   "metadata": {},
   "outputs": [
    {
     "name": "stdout",
     "output_type": "stream",
     "text": [
      "   Bedrooms  SquareFootage  DistanceToSchool   Price\n",
      "0         3           2000               0.5  300000\n",
      "1         2           1500               1.2  250000\n",
      "2         4           2500               0.8  400000\n",
      "3         3           1800               1.0  320000\n",
      "4         2           1600               0.7  280000\n"
     ]
    }
   ],
   "source": [
    "df = pd.read_csv(\"C:\\\\Users\\\\USER\\PycharmProjects\\\\Internship_project\\\\house_data.csv\")\n",
    "print(df.head())"
   ]
  },
  {
   "cell_type": "code",
   "execution_count": 3,
   "id": "a070a3bc-f33d-4d57-8842-577e528af2b6",
   "metadata": {},
   "outputs": [
    {
     "name": "stdout",
     "output_type": "stream",
     "text": [
      "<class 'pandas.core.frame.DataFrame'>\n",
      "RangeIndex: 85 entries, 0 to 84\n",
      "Data columns (total 4 columns):\n",
      " #   Column            Non-Null Count  Dtype  \n",
      "---  ------            --------------  -----  \n",
      " 0   Bedrooms          85 non-null     int64  \n",
      " 1   SquareFootage     85 non-null     int64  \n",
      " 2   DistanceToSchool  85 non-null     float64\n",
      " 3   Price             85 non-null     int64  \n",
      "dtypes: float64(1), int64(3)\n",
      "memory usage: 2.8 KB\n"
     ]
    }
   ],
   "source": [
    "df.info()"
   ]
  },
  {
   "cell_type": "code",
   "execution_count": 1,
   "id": "03d64fb9-c453-47a4-82b6-750c4524bbe3",
   "metadata": {},
   "outputs": [
    {
     "ename": "NameError",
     "evalue": "name 'load_data' is not defined",
     "output_type": "error",
     "traceback": [
      "\u001b[1;31m---------------------------------------------------------------------------\u001b[0m",
      "\u001b[1;31mNameError\u001b[0m                                 Traceback (most recent call last)",
      "Cell \u001b[1;32mIn[1], line 80\u001b[0m\n\u001b[0;32m     76\u001b[0m     \u001b[38;5;28mprint\u001b[39m(\u001b[38;5;124m'\u001b[39m\u001b[38;5;124mPredicted price of the given data will be :\u001b[39m\u001b[38;5;124m'\u001b[39m, predicted_price)\n\u001b[0;32m     79\u001b[0m \u001b[38;5;28;01mif\u001b[39;00m \u001b[38;5;18m__name__\u001b[39m \u001b[38;5;241m==\u001b[39m \u001b[38;5;124m\"\u001b[39m\u001b[38;5;124m__main__\u001b[39m\u001b[38;5;124m\"\u001b[39m:\n\u001b[1;32m---> 80\u001b[0m     \u001b[43mmain\u001b[49m\u001b[43m(\u001b[49m\u001b[43m)\u001b[49m\n",
      "Cell \u001b[1;32mIn[1], line 49\u001b[0m, in \u001b[0;36mmain\u001b[1;34m()\u001b[0m\n\u001b[0;32m     46\u001b[0m \u001b[38;5;28;01mdef\u001b[39;00m \u001b[38;5;21mmain\u001b[39m():\n\u001b[0;32m     47\u001b[0m     \u001b[38;5;66;03m# Step 1: Load data\u001b[39;00m\n\u001b[0;32m     48\u001b[0m     file_path \u001b[38;5;241m=\u001b[39m \u001b[38;5;124m'\u001b[39m\u001b[38;5;124mC:\u001b[39m\u001b[38;5;130;01m\\\\\u001b[39;00m\u001b[38;5;124mUsers\u001b[39m\u001b[38;5;130;01m\\\\\u001b[39;00m\u001b[38;5;124mUSER\u001b[39m\u001b[38;5;124m\\\u001b[39m\u001b[38;5;124mPycharmProjects\u001b[39m\u001b[38;5;130;01m\\\\\u001b[39;00m\u001b[38;5;124mInternship_project\u001b[39m\u001b[38;5;130;01m\\\\\u001b[39;00m\u001b[38;5;124mhouse_data.csv\u001b[39m\u001b[38;5;124m'\u001b[39m  \u001b[38;5;66;03m# Replace with the actual path to your dataset\u001b[39;00m\n\u001b[1;32m---> 49\u001b[0m     data \u001b[38;5;241m=\u001b[39m \u001b[43mload_data\u001b[49m(file_path)\n\u001b[0;32m     51\u001b[0m     \u001b[38;5;66;03m# Step 2: Data preprocessing\u001b[39;00m\n\u001b[0;32m     52\u001b[0m     data \u001b[38;5;241m=\u001b[39m preprocess_data(data)\n",
      "\u001b[1;31mNameError\u001b[0m: name 'load_data' is not defined"
     ]
    }
   ],
   "source": [
    "# Data preprocessing\n",
    "def preprocess_data(data):\n",
    "    # Handling missing values if any\n",
    "    data.fillna(0, inplace=True)  # Filling missing values with zeros, you can choose your own strategy\n",
    "    \n",
    "    # Perform feature scaling if required\n",
    "    # For linear regression, it's not always necessary, but sometimes it can improve performance\n",
    "    \n",
    "    return data\n",
    "\n",
    "# Prepare the data\n",
    "def prepare_data(data):\n",
    "    X = data[['Bedrooms', 'SquareFootage', 'DistanceToSchool']]  # Features\n",
    "    y = data['Price']  # Target variable\n",
    "    return X, y\n",
    "\n",
    "# Split data into training and testing sets\n",
    "def split_data(X, y):\n",
    "    return train_test_split(X, y, test_size=0.2, random_state=42)\n",
    "\n",
    "# Train the linear regression model\n",
    "def train_model(X_train, y_train):\n",
    "    model = LinearRegression()\n",
    "    model.fit(X_train, y_train)\n",
    "    return model\n",
    "\n",
    "# Predictions on the testing set\n",
    "def predict(model, X_test):\n",
    "    return model.predict(X_test)\n",
    "\n",
    "# Evaluate the model\n",
    "def evaluate(y_test, y_pred):\n",
    "    mse = mean_squared_error(y_test, y_pred)\n",
    "    return mse\n",
    "\n",
    "# Visualize model performance\n",
    "def visualize(y_test, y_pred):\n",
    "    plt.scatter(y_test, y_pred)\n",
    "    plt.plot([min(y_test), max(y_test)], [min(y_test), max(y_test)], linestyle='--', color='red', label='Perfect Prediction')\n",
    "    plt.xlabel('Actual Prices')\n",
    "    plt.ylabel('Predicted Prices')\n",
    "    plt.title('Actual vs. Predicted Prices')\n",
    "    plt.show()\n",
    "\n",
    "# Main function\n",
    "def main():\n",
    "    # Step 1: Load data\n",
    "    file_path = 'C:\\\\Users\\\\USER\\PycharmProjects\\\\Internship_project\\\\house_data.csv'  # Replace with the actual path to your dataset\n",
    "    data = load_data(file_path)\n",
    "    \n",
    "    # Step 2: Data preprocessing\n",
    "    data = preprocess_data(data)\n",
    "    \n",
    "    # Step 3: Prepare data\n",
    "    X, y = prepare_data(data)\n",
    "    \n",
    "    # Step 4: Split data into training and testing sets\n",
    "    X_train, X_test, y_train, y_test = split_data(X, y)\n",
    "    \n",
    "    # Step 5: Train the model\n",
    "    model = train_model(X_train, y_train)\n",
    "    \n",
    "    # Step 6: Predictions\n",
    "    y_pred = predict(model, X_test)\n",
    "    \n",
    "    # Step 7: Evaluate the model\n",
    "    mse = evaluate(y_test, y_pred)\n",
    "    print('Mean Squared Error:', mse)\n",
    "\n",
    "    # Step 8: Visualize model performance\n",
    "    visualize(y_test, y_pred)\n",
    "\n",
    "     # Example: Predicting house price for new data\n",
    "    new_data = pd.DataFrame([[2, 2000, 0.5]], columns=['Bedrooms', 'SquareFootage', 'DistanceToSchool'])\n",
    "    predicted_price = model.predict(new_data)\n",
    "    print('Predicted price of the given data will be :', predicted_price)\n",
    "\n",
    "\n",
    "if __name__ == \"__main__\":\n",
    "    main()"
   ]
  },
  {
   "cell_type": "code",
   "execution_count": null,
   "id": "e9e260a5-56bc-4b6f-bcc9-8b387e708353",
   "metadata": {},
   "outputs": [],
   "source": []
  },
  {
   "cell_type": "code",
   "execution_count": null,
   "id": "877e581a-6a9f-40aa-bc86-d1db53b05fa6",
   "metadata": {},
   "outputs": [],
   "source": []
  },
  {
   "cell_type": "code",
   "execution_count": null,
   "id": "38509b5b-3fa1-42bc-8b21-d73759e0132b",
   "metadata": {},
   "outputs": [],
   "source": []
  },
  {
   "cell_type": "code",
   "execution_count": null,
   "id": "8ccd7055-37ac-4904-ad3a-28c8f4d05b9d",
   "metadata": {},
   "outputs": [],
   "source": []
  }
 ],
 "metadata": {
  "kernelspec": {
   "display_name": "Python 3 (ipykernel)",
   "language": "python",
   "name": "python3"
  },
  "language_info": {
   "codemirror_mode": {
    "name": "ipython",
    "version": 3
   },
   "file_extension": ".py",
   "mimetype": "text/x-python",
   "name": "python",
   "nbconvert_exporter": "python",
   "pygments_lexer": "ipython3",
   "version": "3.11.7"
  }
 },
 "nbformat": 4,
 "nbformat_minor": 5
}
